{
 "cells": [
  {
   "cell_type": "code",
   "execution_count": null,
   "id": "988c9d9a",
   "metadata": {},
   "outputs": [],
   "source": [
    "# Deliverable 2: Determine Bias of Vine Reviews\n",
    "import os\n",
    "# Find the latest version of spark 2.0  from http://www-us.apache.org/dist/spark/ and enter as the spark version\n",
    "# For example:\n",
    "# spark_version = 'spark-3.0.0'\n",
    "spark_version = 'spark-3.0.1'\n",
    "os.environ['SPARK_VERSION']=spark_version\n",
    "\n",
    "# Install Spark and Java\n",
    "!apt-get update\n",
    "!apt-get install openjdk-11-jdk-headless -qq > /dev/null\n",
    "!wget -q http://www-us.apache.org/dist/spark/$SPARK_VERSION/$SPARK_VERSION-bin-hadoop2.7.tgz\n",
    "!tar xf $SPARK_VERSION-bin-hadoop2.7.tgz\n",
    "!pip install -q findspark\n",
    "\n",
    "# Set Environment Variables\n",
    "import os\n",
    "os.environ[\"JAVA_HOME\"] = \"/usr/lib/jvm/java-11-openjdk-amd64\"\n",
    "os.environ[\"SPARK_HOME\"] = f\"/content/{spark_version}-bin-hadoop2.7\"\n",
    "\n",
    "# Start a SparkSession\n",
    "import findspark\n",
    "findspark.init()"
   ]
  },
  {
   "cell_type": "code",
   "execution_count": null,
   "id": "16e39e19",
   "metadata": {},
   "outputs": [],
   "source": [
    "from pyspark.sql import SparkSession\n",
    "spark = SparkSession.builder.appName(\"BigData-Challenge\").config(\"spark.driver.extraClassPath\",\"/content/postgresql-42.2.16.jar\").getOrCreate()"
   ]
  },
  {
   "cell_type": "code",
   "execution_count": null,
   "id": "b736abb2",
   "metadata": {},
   "outputs": [],
   "source": [
    "from pyspark import SparkFiles\n",
    "url = \"https://s3.amazonaws.com/amazon-reviews-pds/tsv/amazon_reviews_us_Digital_Video_Games_v1_00.tsv.gz\"\n",
    "spark.sparkContext.addFile(url)\n",
    "df = spark.read.option(\"encoding\", \"UTF-8\").csv(SparkFiles.get(\"amazon_reviews_us_Digital_Video_Games_v1_00.tsv.gz\"), sep=\"\\t\", header=True, inferSchema=True)\n",
    "df.show()"
   ]
  },
  {
   "cell_type": "code",
   "execution_count": null,
   "id": "7ca1a4c3",
   "metadata": {},
   "outputs": [],
   "source": [
    "df.count()"
   ]
  },
  {
   "cell_type": "code",
   "execution_count": null,
   "id": "c8ec21e6",
   "metadata": {},
   "outputs": [],
   "source": [
    "# Load in a sql function to use columns\n",
    "from pyspark.sql.functions import col\n",
    "\n",
    "# Filter for only columns with total_votes equal or greater than 20\n",
    "total_votes_20plus_df = df.filter(col(\"total_votes\") >= 20)\n",
    "total_votes_20plus_df.show(5)"
   ]
  },
  {
   "cell_type": "code",
   "execution_count": null,
   "id": "fed7a249",
   "metadata": {},
   "outputs": [],
   "source": [
    "total_votes_20plus_df.count()"
   ]
  },
  {
   "cell_type": "code",
   "execution_count": null,
   "id": "0604a22c",
   "metadata": {},
   "outputs": [],
   "source": [
    "# Filter the data for helpful_votes/total_votes is >= 50%\n",
    "helpful_votes_50plus_df = total_votes_20plus_df.filter(col(\"helpful_votes\")/col(\"total_votes\") >= .50)\n",
    "helpful_votes_50plus_df.show(5)"
   ]
  },
  {
   "cell_type": "code",
   "execution_count": null,
   "id": "ff9ef34c",
   "metadata": {},
   "outputs": [],
   "source": [
    "helpful_votes_50plus_df.count()"
   ]
  },
  {
   "cell_type": "code",
   "execution_count": null,
   "id": "309c2f3c",
   "metadata": {},
   "outputs": [],
   "source": [
    "# Filter for data where a review was written as part of the Vine program\n",
    "paid_vine_df = helpful_votes_50plus_df.filter(col(\"vine\") == 'Y')\n",
    "paid_vine_df.show()"
   ]
  },
  {
   "cell_type": "code",
   "execution_count": null,
   "id": "9a0addd0",
   "metadata": {},
   "outputs": [],
   "source": [
    "paid_vine_df.count()"
   ]
  },
  {
   "cell_type": "code",
   "execution_count": null,
   "id": "cf451936",
   "metadata": {},
   "outputs": [],
   "source": [
    "# Filter for data where a review was not part of the Vine program\n",
    "unpaid_vine_df = helpful_votes_50plus_df.filter(col(\"vine\") == 'N')\n",
    "unpaid_vine_df.show(5)"
   ]
  },
  {
   "cell_type": "code",
   "execution_count": null,
   "id": "2d04ec54",
   "metadata": {},
   "outputs": [],
   "source": [
    "# Finding total # of review paid\n",
    "paid_vine_df.count()"
   ]
  },
  {
   "cell_type": "code",
   "execution_count": null,
   "id": "23b01bf3",
   "metadata": {},
   "outputs": [],
   "source": [
    "# Finding total # of 5-star reviews paid\n",
    "paid_star_rating_df = paid_vine_df.filter(col(\"star_rating\") == 5)\n",
    "paid_star_rating_df.count()"
   ]
  },
  {
   "cell_type": "code",
   "execution_count": null,
   "id": "3666f8f4",
   "metadata": {},
   "outputs": [],
   "source": [
    "# Percdentage of 5 star in paid\n",
    "five_star_percent=(five_star_paid_review/total_paid_review)*100\n",
    "five_star_percent"
   ]
  },
  {
   "cell_type": "code",
   "execution_count": null,
   "id": "99fff8d8",
   "metadata": {},
   "outputs": [],
   "source": [
    "# Finding total # of review unpaid\n",
    "unpaid_vine_df.count()"
   ]
  },
  {
   "cell_type": "code",
   "execution_count": null,
   "id": "7d451edf",
   "metadata": {},
   "outputs": [],
   "source": [
    "# Finding total # of 5-star reviews unpaid\n",
    "unpaid_star_rating_df = unpaid_vine_df.filter(col(\"star_rating\") == 5)\n",
    "unpaid_star_rating_df.count()"
   ]
  },
  {
   "cell_type": "code",
   "execution_count": null,
   "id": "e2794f76",
   "metadata": {},
   "outputs": [],
   "source": [
    "# Finding percentage of 5-star reviews unpaid\n",
    "percent_unpaid = (unpaid_star_rating_df.count()/unpaid_vine_df.count())*100\n",
    "print(\"Percentage of 5-star reviews for unpaid Vine program was: %f\" % percent_unpaid + \"%\")"
   ]
  },
  {
   "cell_type": "code",
   "execution_count": null,
   "id": "fee39f0c",
   "metadata": {},
   "outputs": [],
   "source": []
  }
 ],
 "metadata": {
  "kernelspec": {
   "display_name": "PythonData",
   "language": "python",
   "name": "pythondata"
  },
  "language_info": {
   "codemirror_mode": {
    "name": "ipython",
    "version": 3
   },
   "file_extension": ".py",
   "mimetype": "text/x-python",
   "name": "python",
   "nbconvert_exporter": "python",
   "pygments_lexer": "ipython3",
   "version": "3.7.7"
  }
 },
 "nbformat": 4,
 "nbformat_minor": 5
}
